{
 "cells": [
  {
   "cell_type": "code",
   "execution_count": 6,
   "id": "983058a5-6d4f-4588-a247-36b9b71fd809",
   "metadata": {},
   "outputs": [
    {
     "name": "stdout",
     "output_type": "stream",
     "text": [
      "X_train_raw shape: (59999, 784)\n",
      "y_train_raw shape: (59999,)\n",
      "X_test_raw shape: (9999, 784)\n",
      "y_test_raw shape: (9999,)\n",
      "X_train shape: (59999, 28, 28, 1)\n",
      "y_train shape: (59999,)\n",
      "X_test shape: (9999, 28, 28, 1)\n",
      "y_test shape: (9999,)\n"
     ]
    },
    {
     "data": {
      "image/png": "[encoded data removed]",
      "text/plain": [
       "<Figure size 640x480 with 1 Axes>"
      ]
     },
     "metadata": {},
     "output_type": "display_data"
    },
    {
     "name": "stderr",
     "output_type": "stream",
     "text": [
      "WARNING:absl:Compiled the loaded model, but the compiled metrics have yet to be built. `model.compile_metrics` will be empty until you train or evaluate the model.\n"
     ]
    },
    {
     "name": "stdout",
     "output_type": "stream",
     "text": [
      "Loading existing model...\n",
      "\u001b[1m313/313\u001b[0m \u001b[32m━━━━━━━━━━━━━━━━━━━━\u001b[0m\u001b[37m\u001b[0m \u001b[1m2s\u001b[0m 6ms/step - accuracy: 0.9874 - loss: 0.0384\n",
      "Test Accuracy: 99.09%\n"
     ]
    },
    {
     "data": {
      "image/png": "[encoded data removed]",
      "text/plain": [
       "<Figure size 640x480 with 1 Axes>"
      ]
     },
     "metadata": {},
     "output_type": "display_data"
    },
    {
     "name": "stdout",
     "output_type": "stream",
     "text": [
      "\u001b[1m1/1\u001b[0m \u001b[32m━━━━━━━━━━━━━━━━━━━━\u001b[0m\u001b[37m\u001b[0m \u001b[1m0s\u001b[0m 152ms/step\n",
      "Model prediction probabilities: [[4.5593388e-06 2.5775784e-05 5.5496519e-05 1.8909411e-04 3.9785994e-10\n",
      "  5.0295651e-10 2.1232697e-12 9.9972087e-01 1.9890894e-07 3.8963672e-06]]\n",
      "Predicted label: 7\n"
     ]
    }
   ],
   "source": [
    "import numpy as np\n",
    "import pandas as pd\n",
    "import os\n",
    "import matplotlib.pyplot as plt\n",
    "import random\n",
    "from tensorflow.keras.models import Sequential, load_model\n",
    "from tensorflow.keras.layers import Conv2D, MaxPooling2D, Flatten, Dense\n",
    "\n",
    "train_csv = r'D:\\BTech\\SoC\\MNIST_CSV\\mnist_train.csv'\n",
    "test_csv = r'D:\\BTech\\SoC\\MNIST_CSV\\mnist_test.csv'\n",
    "\n",
    "train_data = pd.read_csv(train_csv)\n",
    "test_data = pd.read_csv(test_csv)\n",
    "\n",
    "print(\"X_train_raw shape:\", train_data.iloc[:, 1:].shape)\n",
    "print(\"y_train_raw shape:\", train_data.iloc[:, 0].shape)\n",
    "print(\"X_test_raw shape:\", test_data.iloc[:, 1:].shape)\n",
    "print(\"y_test_raw shape:\", test_data.iloc[:, 0].shape)\n",
    "\n",
    "X_train = train_data.iloc[:, 1:].to_numpy().reshape(-1, 28, 28, 1).astype('float32') / 255.0\n",
    "y_train = train_data.iloc[:, 0]\n",
    "\n",
    "X_test = test_data.iloc[:, 1:].to_numpy().reshape(-1, 28, 28, 1).astype('float32') / 255.0\n",
    "y_test = test_data.iloc[:, 0]\n",
    "\n",
    "print(\"X_train shape:\", X_train.shape)\n",
    "print(\"y_train shape:\", y_train.shape)\n",
    "print(\"X_test shape:\", X_test.shape)\n",
    "print(\"y_test shape:\", y_test.shape)\n",
    "\n",
    "index = random.randint(0, len(X_train) - 1)\n",
    "plt.imshow(X_train[index].squeeze(), cmap='gray')\n",
    "plt.show() \n",
    "\n",
    "model_file = 'digit_recognizer_cnn.h5'\n",
    "\n",
    "if os.path.exists(model_file):\n",
    "    print(\"Loading existing model...\")\n",
    "    model = load_model(model_file)\n",
    "else:\n",
    "    print(\"Training new model...\")\n",
    "    model = Sequential([\n",
    "        Conv2D(32, (3, 3), activation='relu', input_shape=(28, 28, 1)),\n",
    "        MaxPooling2D((2, 2)),\n",
    "        Conv2D(64, (3, 3), activation='relu'),\n",
    "        MaxPooling2D((2, 2)),\n",
    "        Flatten(),\n",
    "        Dense(128, activation='relu'),\n",
    "        Dense(10, activation='softmax') \n",
    "    ])\n",
    "\n",
    "    model.compile(\n",
    "        optimizer='adam',\n",
    "        loss='sparse_categorical_crossentropy',\n",
    "        metrics=['accuracy']\n",
    "    )\n",
    "\n",
    "    model.fit(X_train, y_train, epochs=5, batch_size=64)\n",
    "    model.save(model_file)\n",
    "    print(\"Model trained and saved.\")\n",
    "\n",
    "test_loss, test_accuracy = model.evaluate(X_test, y_test)\n",
    "print(f\"Test Accuracy: {test_accuracy * 100:.2f}%\")\n",
    "\n",
    "index2 = random.randint(0, len(X_test) - 1)\n",
    "plt.imshow(X_test[index2].squeeze(), cmap='gray')\n",
    "plt.title(f\"True Label: {y_test.iloc[index2]}\")\n",
    "plt.axis('off')\n",
    "plt.show()\n",
    "\n",
    "y_pred = model.predict(X_test[index2].reshape(1, 28, 28, 1))\n",
    "print(\"Model prediction probabilities:\", y_pred)\n",
    "print(\"Predicted label:\", np.argmax(y_pred))"
   ]
  },
  {
   "cell_type": "code",
   "execution_count": null,
   "id": "0ac93f34-5b31-45a9-9d10-dc7fd2dd5cd5",
   "metadata": {},
   "outputs": [],
   "source": []
  }
 ],
 "metadata": {
  "kernelspec": {
   "display_name": "Python 3.10",
   "language": "python",
   "name": "python310"
  },
  "language_info": {
   "codemirror_mode": {
    "name": "ipython",
    "version": 3
   },
   "file_extension": ".py",
   "mimetype": "text/x-python",
   "name": "python",
   "nbconvert_exporter": "python",
   "pygments_lexer": "ipython3",
   "version": "3.10.9"
  }
 },
 "nbformat": 4,
 "nbformat_minor": 5
}
